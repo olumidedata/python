{
 "cells": [
  {
   "cell_type": "code",
   "execution_count": 3,
   "id": "278f3fa9-fa18-499d-ba00-19c928247d24",
   "metadata": {},
   "outputs": [],
   "source": [
    "integers = [1,2,3,4,5]"
   ]
  },
  {
   "cell_type": "code",
   "execution_count": null,
   "id": "d1762441-98a0-4d57-8da5-f4e09c16b831",
   "metadata": {},
   "outputs": [],
   "source": [
    "for salim in integers:\n",
    "    print"
   ]
  },
  {
   "cell_type": "code",
   "execution_count": null,
   "id": "b2be8a71-c215-4005-a570-23ad360874bc",
   "metadata": {},
   "outputs": [],
   "source": []
  },
  {
   "cell_type": "code",
   "execution_count": 17,
   "id": "1f28d0df-4b07-419d-ba45-6436ef19e7b2",
   "metadata": {},
   "outputs": [],
   "source": [
    "ice_cream_dict = {'Sakeenah': 14, 'Salim': 10, 'Salimah': 9, 'Samir': 7, 'Class': ['SS1', 'JS1', 'JS1', 'BASIC 3']}"
   ]
  },
  {
   "cell_type": "code",
   "execution_count": 19,
   "id": "1f340baf-9a69-459c-b466-a4596de9380a",
   "metadata": {},
   "outputs": [
    {
     "name": "stdout",
     "output_type": "stream",
     "text": [
      "14\n",
      "10\n",
      "9\n",
      "7\n",
      "['SS1', 'JS1', 'JS1', 'BASIC 3']\n"
     ]
    }
   ],
   "source": [
    "for name in ice_cream_dict.values():\n",
    "    print(name)"
   ]
  },
  {
   "cell_type": "code",
   "execution_count": 25,
   "id": "9b0bb371-6d05-4fa9-8275-296ad8d283bf",
   "metadata": {},
   "outputs": [
    {
     "name": "stdout",
     "output_type": "stream",
     "text": [
      "Sakeenah -> 14\n",
      "Salim -> 10\n",
      "Salimah -> 9\n",
      "Samir -> 7\n",
      "Class -> ['SS1', 'JS1', 'JS1', 'BASIC 3']\n"
     ]
    }
   ],
   "source": [
    "for key, value in ice_cream_dict.items():\n",
    "    print(key, '->' , value)"
   ]
  },
  {
   "cell_type": "code",
   "execution_count": null,
   "id": "93261259-24df-498b-b5e9-97c8bed3f97e",
   "metadata": {},
   "outputs": [],
   "source": []
  },
  {
   "cell_type": "code",
   "execution_count": null,
   "id": "214a7d57-57f0-40e3-bb58-bd496bf15380",
   "metadata": {},
   "outputs": [],
   "source": []
  },
  {
   "cell_type": "code",
   "execution_count": null,
   "id": "f23a1c8a-bd51-495d-8e6b-2055bda8c2b8",
   "metadata": {},
   "outputs": [],
   "source": []
  },
  {
   "cell_type": "code",
   "execution_count": null,
   "id": "f62ed1be-651e-47b2-b08f-cebca17a3fff",
   "metadata": {},
   "outputs": [],
   "source": []
  },
  {
   "cell_type": "code",
   "execution_count": null,
   "id": "030b7a74-b31a-4df4-a4bd-9e24b167b3a1",
   "metadata": {},
   "outputs": [],
   "source": []
  },
  {
   "cell_type": "code",
   "execution_count": null,
   "id": "90aaeb2d-d262-4825-abe8-e28c83262efe",
   "metadata": {},
   "outputs": [],
   "source": []
  },
  {
   "cell_type": "code",
   "execution_count": null,
   "id": "787e318b-13de-488f-9726-293751e6797a",
   "metadata": {},
   "outputs": [],
   "source": []
  },
  {
   "cell_type": "code",
   "execution_count": null,
   "id": "4d30b7e6-79a8-4d6d-b375-30168a78ff3f",
   "metadata": {},
   "outputs": [],
   "source": []
  },
  {
   "cell_type": "code",
   "execution_count": null,
   "id": "572fc721-ec82-4261-acf0-c105cdbcb6fa",
   "metadata": {},
   "outputs": [],
   "source": []
  },
  {
   "cell_type": "code",
   "execution_count": null,
   "id": "d5f8a767-e568-40f3-bb36-45c6fb1a6ac4",
   "metadata": {},
   "outputs": [],
   "source": []
  },
  {
   "cell_type": "code",
   "execution_count": null,
   "id": "5ac4ae29-5aee-473f-9565-37d4ec10a75e",
   "metadata": {},
   "outputs": [],
   "source": []
  },
  {
   "cell_type": "code",
   "execution_count": null,
   "id": "7a1764a7-679c-4608-897b-70b6f018baf1",
   "metadata": {},
   "outputs": [],
   "source": []
  },
  {
   "cell_type": "code",
   "execution_count": null,
   "id": "04fec786-38cc-44dc-a312-84f6257271f0",
   "metadata": {},
   "outputs": [],
   "source": []
  },
  {
   "cell_type": "code",
   "execution_count": null,
   "id": "268ff4fe-cf0d-442f-ae0b-07fd0bf5cc3b",
   "metadata": {},
   "outputs": [],
   "source": []
  },
  {
   "cell_type": "code",
   "execution_count": 5,
   "id": "59c6b75f-7196-41c3-8e06-ee67d91e8003",
   "metadata": {},
   "outputs": [
    {
     "name": "stdout",
     "output_type": "stream",
     "text": [
      "1\n",
      "2\n",
      "3\n",
      "4\n",
      "5\n"
     ]
    }
   ],
   "source": [
    "for number in integers:\n",
    "    print(number)\n",
    "\n",
    "\n",
    "    "
   ]
  },
  {
   "cell_type": "code",
   "execution_count": 15,
   "id": "3b251aff-56d9-40e6-b92c-52090675df73",
   "metadata": {},
   "outputs": [
    {
     "name": "stdout",
     "output_type": "stream",
     "text": [
      "boys\n",
      "boys\n",
      "boys\n",
      "boys\n",
      "boys\n"
     ]
    }
   ],
   "source": [
    "for number in integers:\n",
    "    print('boys')"
   ]
  },
  {
   "cell_type": "code",
   "execution_count": null,
   "id": "a09e31ad-8398-4c3e-9f94-fa69e12fa840",
   "metadata": {},
   "outputs": [],
   "source": []
  },
  {
   "cell_type": "code",
   "execution_count": 33,
   "id": "4358006c-197f-4504-aea8-dd6bcba50dc6",
   "metadata": {},
   "outputs": [],
   "source": [
    "firstnames = ['Sakeenah', 'Salim', 'Salimah', 'Samir']\n",
    "lastnames = ['Kolawole']"
   ]
  },
  {
   "cell_type": "code",
   "execution_count": 35,
   "id": "4b414bd3-52f8-429b-a89f-b6f3fe953383",
   "metadata": {},
   "outputs": [
    {
     "name": "stdout",
     "output_type": "stream",
     "text": [
      "Sakeenah Grandpa name is Kolawole\n",
      "Salim Grandpa name is Kolawole\n",
      "Salimah Grandpa name is Kolawole\n",
      "Samir Grandpa name is Kolawole\n"
     ]
    }
   ],
   "source": [
    "for one in firstnames:\n",
    "    for two in lastnames:\n",
    "        print(one, 'Grandpa name is', two)"
   ]
  },
  {
   "cell_type": "code",
   "execution_count": null,
   "id": "c0009b91-ba6b-4a48-8e3e-b33828e4c7a0",
   "metadata": {},
   "outputs": [],
   "source": []
  },
  {
   "cell_type": "code",
   "execution_count": null,
   "id": "ebc84fdd-676a-469e-abf9-bb36cd4e1b44",
   "metadata": {},
   "outputs": [],
   "source": []
  },
  {
   "cell_type": "code",
   "execution_count": null,
   "id": "15716dc6-8ef7-448c-8a5a-b8c01faa45ed",
   "metadata": {},
   "outputs": [],
   "source": []
  },
  {
   "cell_type": "code",
   "execution_count": null,
   "id": "b8b82f67-9b99-4fa7-9f46-863fe2c36551",
   "metadata": {},
   "outputs": [],
   "source": []
  },
  {
   "cell_type": "code",
   "execution_count": null,
   "id": "e9dc1cf9-ab3e-4d41-822b-0cef83060c0a",
   "metadata": {},
   "outputs": [],
   "source": []
  },
  {
   "cell_type": "code",
   "execution_count": null,
   "id": "da670fca-f635-4697-a307-2cfb3c53ab18",
   "metadata": {},
   "outputs": [],
   "source": []
  },
  {
   "cell_type": "code",
   "execution_count": null,
   "id": "a0e7b40e-3ae0-4416-8ccb-33887286c757",
   "metadata": {},
   "outputs": [],
   "source": []
  },
  {
   "cell_type": "code",
   "execution_count": null,
   "id": "eb34df25-db4b-4504-8939-72cbcffd10c6",
   "metadata": {},
   "outputs": [],
   "source": []
  },
  {
   "cell_type": "code",
   "execution_count": null,
   "id": "fedce211-7f8b-4985-9158-aa7de5af57e8",
   "metadata": {},
   "outputs": [],
   "source": []
  },
  {
   "cell_type": "code",
   "execution_count": null,
   "id": "0306566e-70a6-472f-8ef0-55421617af82",
   "metadata": {},
   "outputs": [],
   "source": []
  },
  {
   "cell_type": "code",
   "execution_count": null,
   "id": "880401f4-ab4f-406f-b916-e0ca4b609afd",
   "metadata": {},
   "outputs": [],
   "source": []
  },
  {
   "cell_type": "code",
   "execution_count": null,
   "id": "86e88db5-01ca-4236-b37a-d69fe364afe1",
   "metadata": {},
   "outputs": [],
   "source": []
  },
  {
   "cell_type": "code",
   "execution_count": null,
   "id": "eb5f49a4-4644-46b0-b2c8-30d4a06b9202",
   "metadata": {},
   "outputs": [],
   "source": []
  }
 ],
 "metadata": {
  "kernelspec": {
   "display_name": "Python 3 (ipykernel)",
   "language": "python",
   "name": "python3"
  },
  "language_info": {
   "codemirror_mode": {
    "name": "ipython",
    "version": 3
   },
   "file_extension": ".py",
   "mimetype": "text/x-python",
   "name": "python",
   "nbconvert_exporter": "python",
   "pygments_lexer": "ipython3",
   "version": "3.12.4"
  }
 },
 "nbformat": 4,
 "nbformat_minor": 5
}
