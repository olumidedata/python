{
 "cells": [
  {
   "cell_type": "code",
   "execution_count": 1,
   "id": "89e23f20-cc11-4a5c-98d0-77c8c8d0a27f",
   "metadata": {},
   "outputs": [],
   "source": [
    "import os, shutil\n"
   ]
  },
  {
   "cell_type": "code",
   "execution_count": 26,
   "id": "95f3f5d2-f0f6-409f-9328-613d1a67ac1f",
   "metadata": {},
   "outputs": [],
   "source": [
    "path = r\"C:/Users/Olumide Kolawole/Downloads/Test/\""
   ]
  },
  {
   "cell_type": "code",
   "execution_count": 51,
   "id": "9bf89a84-970a-4a74-a4e2-5a940865d8fd",
   "metadata": {},
   "outputs": [
    {
     "data": {
      "text/plain": [
       "['Doc files', 'Excel Files', 'Image files', 'PDF']"
      ]
     },
     "execution_count": 51,
     "metadata": {},
     "output_type": "execute_result"
    }
   ],
   "source": [
    "os.listdir(path)"
   ]
  },
  {
   "cell_type": "code",
   "execution_count": 55,
   "id": "e7561248-e012-4480-a46a-0effedda8143",
   "metadata": {},
   "outputs": [
    {
     "data": {
      "text/plain": [
       "False"
      ]
     },
     "execution_count": 55,
     "metadata": {},
     "output_type": "execute_result"
    }
   ],
   "source": [
    "os.path.exists(path + 'jpg')"
   ]
  },
  {
   "cell_type": "code",
   "execution_count": 57,
   "id": "ba73d362-5164-4ca1-b91f-089d88172884",
   "metadata": {},
   "outputs": [
    {
     "data": {
      "text/plain": [
       "False"
      ]
     },
     "execution_count": 57,
     "metadata": {},
     "output_type": "execute_result"
    }
   ],
   "source": [
    "os.path.exists(path + 'doc')"
   ]
  },
  {
   "cell_type": "code",
   "execution_count": 59,
   "id": "9c239907-a741-486d-ad0c-7c7bc1c2c2ad",
   "metadata": {},
   "outputs": [
    {
     "data": {
      "text/plain": [
       "['Doc files', 'Excel Files', 'Image files', 'PDF']"
      ]
     },
     "execution_count": 59,
     "metadata": {},
     "output_type": "execute_result"
    }
   ],
   "source": [
    "os.listdir(path)"
   ]
  },
  {
   "cell_type": "code",
   "execution_count": 40,
   "id": "7c033226-097e-4040-83d3-d314840f1e04",
   "metadata": {},
   "outputs": [
    {
     "name": "stdout",
     "output_type": "stream",
     "text": [
      "C:/Users/Olumide Kolawole/Downloads/Test/PDF\n"
     ]
    }
   ],
   "source": [
    "folder_names = ['Csv files', 'Image files', 'Doc files', 'Excel Files', 'PDF']\n",
    "for loop in range(0,5):\n",
    "        if not os.path.exists(path + folder_names[loop]):\n",
    "            print(path + folder_names[loop])\n",
    "            os.makedirs(path + folder_names[loop])\n"
   ]
  },
  {
   "cell_type": "code",
   "execution_count": null,
   "id": "177dce59-ce79-4c8a-8551-b322cf8656f9",
   "metadata": {},
   "outputs": [],
   "source": []
  },
  {
   "cell_type": "code",
   "execution_count": 63,
   "id": "f326d9c1-036b-4538-9ad2-ba65abadbd34",
   "metadata": {},
   "outputs": [],
   "source": [
    "file_name = os.listdir(path)"
   ]
  },
  {
   "cell_type": "code",
   "execution_count": 61,
   "id": "cf9e562c-992f-4d43-b941-fa7a41872ea7",
   "metadata": {},
   "outputs": [
    {
     "data": {
      "text/plain": [
       "['Doc files', 'Excel Files', 'Image files', 'PDF']"
      ]
     },
     "execution_count": 61,
     "metadata": {},
     "output_type": "execute_result"
    }
   ],
   "source": [
    "os.listdir(path)"
   ]
  },
  {
   "cell_type": "code",
   "execution_count": 47,
   "id": "13e7152d-1b3e-4167-9375-9e75e9c3af8b",
   "metadata": {},
   "outputs": [],
   "source": [
    "for file in file_name:\n",
    "    if \".jpg\" in file and not os.path.exists(path + \"Image files/\" + file):\n",
    "        shutil.move(path + file, path + \"Image files/\" + file)\n",
    "    elif \".xlsx\" in file and not os.path.exists(path + \"Excel files/\" + file):\n",
    "        shutil.move(path + file, path + \"Excel files/\" + file)\n",
    "    elif \".doc\" in file and not os.path.exists(path + \"Doc files/\" + file):\n",
    "        shutil.move(path + file, path + \"Doc files/\" + file)\n",
    "    elif \".pdf\" in file and not os.path.exists(path + \"Doc files/\" + file):\n",
    "        shutil.move(path + file, path + \"PDF/\" + file)\n",
    "    "
   ]
  },
  {
   "cell_type": "code",
   "execution_count": null,
   "id": "7286d54d-a132-4bae-b7b9-c8c63c51bb6b",
   "metadata": {},
   "outputs": [],
   "source": []
  },
  {
   "cell_type": "code",
   "execution_count": null,
   "id": "65b04c11-17a5-4ad5-b5ef-7fd00961aaaf",
   "metadata": {},
   "outputs": [],
   "source": []
  },
  {
   "cell_type": "code",
   "execution_count": null,
   "id": "5933138c-f5e4-4b6b-90b4-98a5a4de1b0e",
   "metadata": {},
   "outputs": [],
   "source": []
  },
  {
   "cell_type": "code",
   "execution_count": null,
   "id": "42553ba8-23c6-4bcc-b646-b78a933e9848",
   "metadata": {},
   "outputs": [],
   "source": []
  },
  {
   "cell_type": "code",
   "execution_count": null,
   "id": "f69178d3-00c8-4b69-b9c2-b86c4fb8ce0f",
   "metadata": {},
   "outputs": [],
   "source": []
  },
  {
   "cell_type": "code",
   "execution_count": null,
   "id": "ff9ffb60-8278-4fce-a9a6-be6fb47dcafb",
   "metadata": {},
   "outputs": [],
   "source": []
  },
  {
   "cell_type": "code",
   "execution_count": null,
   "id": "5d313073-129e-467d-8b69-515b3da384ee",
   "metadata": {},
   "outputs": [],
   "source": []
  },
  {
   "cell_type": "code",
   "execution_count": null,
   "id": "51a6fe4f-5505-48b5-8086-e0f9d574cbb2",
   "metadata": {},
   "outputs": [],
   "source": []
  },
  {
   "cell_type": "code",
   "execution_count": null,
   "id": "4f639aba-3ff6-42b4-89a6-457f3d86225b",
   "metadata": {},
   "outputs": [],
   "source": []
  },
  {
   "cell_type": "code",
   "execution_count": null,
   "id": "1ac88ce8-45a8-45a7-8f1a-3c0e083c9d27",
   "metadata": {},
   "outputs": [],
   "source": []
  },
  {
   "cell_type": "code",
   "execution_count": null,
   "id": "8725e647-4942-4a35-922a-d66640135490",
   "metadata": {},
   "outputs": [],
   "source": []
  },
  {
   "cell_type": "code",
   "execution_count": null,
   "id": "b1610d15-d006-4713-ace4-a65e8eb275bb",
   "metadata": {},
   "outputs": [],
   "source": []
  }
 ],
 "metadata": {
  "kernelspec": {
   "display_name": "Python 3 (ipykernel)",
   "language": "python",
   "name": "python3"
  },
  "language_info": {
   "codemirror_mode": {
    "name": "ipython",
    "version": 3
   },
   "file_extension": ".py",
   "mimetype": "text/x-python",
   "name": "python",
   "nbconvert_exporter": "python",
   "pygments_lexer": "ipython3",
   "version": "3.12.4"
  }
 },
 "nbformat": 4,
 "nbformat_minor": 5
}
