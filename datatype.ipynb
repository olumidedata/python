{
 "cells": [
  {
   "cell_type": "code",
   "execution_count": 1,
   "id": "d7ff55c5-afb9-497a-ad66-2b00a903fa8a",
   "metadata": {},
   "outputs": [
    {
     "data": {
      "text/plain": [
       "int"
      ]
     },
     "execution_count": 1,
     "metadata": {},
     "output_type": "execute_result"
    }
   ],
   "source": [
    "type(12)"
   ]
  },
  {
   "cell_type": "code",
   "execution_count": null,
   "id": "f889859a-5428-47f1-a2fb-ce62ca226a19",
   "metadata": {},
   "outputs": [],
   "source": []
  },
  {
   "cell_type": "code",
   "execution_count": null,
   "id": "d9c1ae6f-4213-4874-9c63-9770b3f409d2",
   "metadata": {},
   "outputs": [],
   "source": []
  },
  {
   "cell_type": "code",
   "execution_count": null,
   "id": "11d3262e-1986-4e72-a86d-eed9dec08037",
   "metadata": {},
   "outputs": [],
   "source": []
  },
  {
   "cell_type": "code",
   "execution_count": null,
   "id": "484cdcde-fc3e-4f63-aa56-9d8cbdeffab6",
   "metadata": {},
   "outputs": [],
   "source": []
  },
  {
   "cell_type": "code",
   "execution_count": null,
   "id": "d2592ffd-8616-4971-9bb2-50d60febc4ed",
   "metadata": {},
   "outputs": [],
   "source": []
  },
  {
   "cell_type": "code",
   "execution_count": null,
   "id": "591f158d-73a8-4f39-8f5b-57e6e7577b06",
   "metadata": {},
   "outputs": [],
   "source": []
  },
  {
   "cell_type": "code",
   "execution_count": null,
   "id": "6b00f8a6-6e34-47b6-8cea-d8aee771611c",
   "metadata": {},
   "outputs": [],
   "source": []
  },
  {
   "cell_type": "code",
   "execution_count": null,
   "id": "a95cf5f2-501c-49e1-b1c8-e1a99be7b485",
   "metadata": {},
   "outputs": [],
   "source": []
  },
  {
   "cell_type": "code",
   "execution_count": null,
   "id": "701be6c4-1603-4347-81d4-9a2e5bcb6245",
   "metadata": {},
   "outputs": [],
   "source": []
  },
  {
   "cell_type": "code",
   "execution_count": null,
   "id": "c1734f19-27b0-4c55-8b6a-8380ddc9ce8b",
   "metadata": {},
   "outputs": [],
   "source": []
  },
  {
   "cell_type": "code",
   "execution_count": 3,
   "id": "074a0047-a60a-4c9d-9919-3b0c068832d0",
   "metadata": {},
   "outputs": [
    {
     "data": {
      "text/plain": [
       "float"
      ]
     },
     "execution_count": 3,
     "metadata": {},
     "output_type": "execute_result"
    }
   ],
   "source": [
    "type(12.24)"
   ]
  },
  {
   "cell_type": "code",
   "execution_count": 13,
   "id": "0b5294cd-b10c-44d5-9189-61372a88e490",
   "metadata": {},
   "outputs": [
    {
     "data": {
      "text/plain": [
       "False"
      ]
     },
     "execution_count": 13,
     "metadata": {},
     "output_type": "execute_result"
    }
   ],
   "source": [
    "#boolean\n",
    "\n",
    "1 > 5"
   ]
  },
  {
   "cell_type": "code",
   "execution_count": 15,
   "id": "17e111ce-38e3-4199-af8d-0a75c99e5555",
   "metadata": {},
   "outputs": [
    {
     "data": {
      "text/plain": [
       "'It is true'"
      ]
     },
     "execution_count": 15,
     "metadata": {},
     "output_type": "execute_result"
    }
   ],
   "source": [
    "#String\n",
    "\n",
    "'It is true'"
   ]
  },
  {
   "cell_type": "code",
   "execution_count": 17,
   "id": "c137e137-169a-4d2d-8dd4-544f8ee247d1",
   "metadata": {},
   "outputs": [
    {
     "data": {
      "text/plain": [
       "'it is false'"
      ]
     },
     "execution_count": 17,
     "metadata": {},
     "output_type": "execute_result"
    }
   ],
   "source": [
    "\"it is false\""
   ]
  },
  {
   "cell_type": "code",
   "execution_count": 21,
   "id": "1c28af31-2811-4c0a-a758-aaf50b302390",
   "metadata": {},
   "outputs": [
    {
     "name": "stdout",
     "output_type": "stream",
     "text": [
      "\n",
      "sure it is true\n",
      "however you can doublecheck\n",
      "\n"
     ]
    }
   ],
   "source": [
    "multiline=\"\"\"\n",
    "sure it is true\n",
    "however you can doublecheck\n",
    "\"\"\"\n",
    "print(multiline)"
   ]
  },
  {
   "cell_type": "code",
   "execution_count": 23,
   "id": "640d3ccb-6900-47ae-9114-77fa602998cd",
   "metadata": {},
   "outputs": [
    {
     "data": {
      "text/plain": [
       "[1, 2, 3]"
      ]
     },
     "execution_count": 23,
     "metadata": {},
     "output_type": "execute_result"
    }
   ],
   "source": [
    "[1,2,3]"
   ]
  },
  {
   "cell_type": "code",
   "execution_count": 25,
   "id": "5e64902c-a9e9-42e1-b500-061d1bcf599b",
   "metadata": {},
   "outputs": [
    {
     "name": "stdout",
     "output_type": "stream",
     "text": [
      "['olumide', 48, 'Ola', 44]\n"
     ]
    }
   ],
   "source": [
    "age=['olumide', 48, 'Ola', 44]\n",
    "\n",
    "print(age)"
   ]
  },
  {
   "cell_type": "code",
   "execution_count": 29,
   "id": "b220ce62-1295-4eed-98a1-a276db177717",
   "metadata": {},
   "outputs": [
    {
     "data": {
      "text/plain": [
       "['olumide', 48, 'Ola', 44, 'Michael']"
      ]
     },
     "execution_count": 29,
     "metadata": {},
     "output_type": "execute_result"
    }
   ],
   "source": [
    "age.append('Michael')\n",
    "\n",
    "age"
   ]
  },
  {
   "cell_type": "code",
   "execution_count": 41,
   "id": "a07f219b-71ff-458b-a2c8-9e1e24d292ac",
   "metadata": {},
   "outputs": [
    {
     "data": {
      "text/plain": [
       "['olumide', 48, 'Ola', 44, 'Michael', 35, 35, 35]"
      ]
     },
     "execution_count": 41,
     "metadata": {},
     "output_type": "execute_result"
    }
   ],
   "source": [
    "age.append(35)\n",
    "age"
   ]
  },
  {
   "cell_type": "code",
   "execution_count": 43,
   "id": "c55a17e1-c3d5-4e36-8913-fcf1b5346168",
   "metadata": {},
   "outputs": [
    {
     "data": {
      "text/plain": [
       "['Vanilla, 3', ['Scoops', 'Spoon'], True]"
      ]
     },
     "execution_count": 43,
     "metadata": {},
     "output_type": "execute_result"
    }
   ],
   "source": [
    "nest_list = ['Vanilla, 3',['Scoops','Spoon'], True]\n",
    "\n",
    "nest_list"
   ]
  },
  {
   "cell_type": "code",
   "execution_count": 55,
   "id": "b574c6be-a804-4cc7-87b8-b4ec293105f8",
   "metadata": {},
   "outputs": [
    {
     "data": {
      "text/plain": [
       "'Vanilla, 3'"
      ]
     },
     "execution_count": 55,
     "metadata": {},
     "output_type": "execute_result"
    }
   ],
   "source": [
    "nest_list[0]"
   ]
  },
  {
   "cell_type": "code",
   "execution_count": 67,
   "id": "1ff40108-c1fe-401d-ada7-16bdfa911e1d",
   "metadata": {},
   "outputs": [
    {
     "data": {
      "text/plain": [
       "'Vanilla, 3'"
      ]
     },
     "execution_count": 67,
     "metadata": {},
     "output_type": "execute_result"
    }
   ],
   "source": [
    "nest_list[0]"
   ]
  },
  {
   "cell_type": "code",
   "execution_count": 71,
   "id": "618513dc-617b-41f3-b2e8-db9ea70b002e",
   "metadata": {},
   "outputs": [],
   "source": [
    "nest_list = ['Vanilla', 3, ['Scoops','Spoon'], True]\n",
    "\n"
   ]
  },
  {
   "cell_type": "code",
   "execution_count": 81,
   "id": "6093184d-e097-4b8c-ac60-eb19dfb17f4f",
   "metadata": {},
   "outputs": [
    {
     "data": {
      "text/plain": [
       "'Spoon'"
      ]
     },
     "execution_count": 81,
     "metadata": {},
     "output_type": "execute_result"
    }
   ],
   "source": [
    "nest_list [2][1]"
   ]
  },
  {
   "cell_type": "code",
   "execution_count": null,
   "id": "c9ff54bb-857f-4d7f-8aea-43ce517c6030",
   "metadata": {},
   "outputs": [],
   "source": []
  },
  {
   "cell_type": "code",
   "execution_count": null,
   "id": "b9068d0a-4b9e-40ae-87f3-e3d35d2902b9",
   "metadata": {},
   "outputs": [],
   "source": []
  },
  {
   "cell_type": "code",
   "execution_count": null,
   "id": "5ec255ca-7abf-448a-9379-d06aa6c5b25e",
   "metadata": {},
   "outputs": [],
   "source": []
  },
  {
   "cell_type": "code",
   "execution_count": 83,
   "id": "59f189b4-8061-4f6a-9cad-5228e83cdc9b",
   "metadata": {},
   "outputs": [
    {
     "data": {
      "text/plain": [
       "tuple"
      ]
     },
     "execution_count": 83,
     "metadata": {},
     "output_type": "execute_result"
    }
   ],
   "source": [
    "#tuple\n",
    "\n",
    "tuple_scoops = (1,2,3,4,5,1,2)\n",
    "\n",
    "type(tuple_scoops)"
   ]
  },
  {
   "cell_type": "code",
   "execution_count": null,
   "id": "b7f5e3c8-d2bf-4abd-8a9a-43356870f209",
   "metadata": {},
   "outputs": [],
   "source": []
  },
  {
   "cell_type": "code",
   "execution_count": null,
   "id": "e6d71686-056b-4a18-8c32-fa583df34bb7",
   "metadata": {},
   "outputs": [],
   "source": []
  },
  {
   "cell_type": "code",
   "execution_count": null,
   "id": "d56dcee0-0c3c-40da-aa95-0253bd543cb3",
   "metadata": {},
   "outputs": [],
   "source": []
  },
  {
   "cell_type": "code",
   "execution_count": null,
   "id": "d8f73457-160e-477b-9368-2091cbe63801",
   "metadata": {},
   "outputs": [],
   "source": []
  },
  {
   "cell_type": "code",
   "execution_count": null,
   "id": "ee458ff5-219c-4f81-8caf-b5d5bcd33129",
   "metadata": {},
   "outputs": [],
   "source": []
  },
  {
   "cell_type": "code",
   "execution_count": 87,
   "id": "e4e5984b-2a7f-40fa-9032-8e2e6d55a40f",
   "metadata": {},
   "outputs": [
    {
     "data": {
      "text/plain": [
       "set"
      ]
     },
     "execution_count": 87,
     "metadata": {},
     "output_type": "execute_result"
    }
   ],
   "source": [
    "#set\n",
    "daily_prints = {1,2,3,4,5}\n",
    "\n",
    "type(daily_prints)"
   ]
  },
  {
   "cell_type": "code",
   "execution_count": 89,
   "id": "f3aa37f0-8bed-4490-95ba-0e3106f0ddf8",
   "metadata": {},
   "outputs": [
    {
     "name": "stdout",
     "output_type": "stream",
     "text": [
      "{1, 2, 3, 4, 5, 6, 7, 12}\n"
     ]
    }
   ],
   "source": [
    "daily_log = {1,2,3,4,1,1,2,3,4,5,6,7,3,4,5,6,12}\n",
    "\n",
    "print(daily_log)"
   ]
  },
  {
   "cell_type": "code",
   "execution_count": null,
   "id": "9f94c8d4-e087-4686-a62f-edce5d443815",
   "metadata": {},
   "outputs": [],
   "source": []
  },
  {
   "cell_type": "code",
   "execution_count": null,
   "id": "6777d5a0-c0f5-4ebd-955a-6adf7bb306af",
   "metadata": {},
   "outputs": [],
   "source": []
  },
  {
   "cell_type": "code",
   "execution_count": 1,
   "id": "40e5cd3b-867d-4777-9720-1cf4692d18bc",
   "metadata": {},
   "outputs": [],
   "source": [
    "dict = {'Dog': ['Bugdog', 'Lion', 'Cat'], 'Food': 'Rice', 'Profession': 'Lawyer'}"
   ]
  },
  {
   "cell_type": "code",
   "execution_count": 3,
   "id": "acf52f0e-215c-4f04-a7b9-46ead4d9df3c",
   "metadata": {},
   "outputs": [
    {
     "data": {
      "text/plain": [
       "dict"
      ]
     },
     "execution_count": 3,
     "metadata": {},
     "output_type": "execute_result"
    }
   ],
   "source": [
    "type(dict)"
   ]
  },
  {
   "cell_type": "code",
   "execution_count": 11,
   "id": "edb51f57-9f30-4025-bfa6-8e56bff8ac73",
   "metadata": {},
   "outputs": [
    {
     "name": "stdout",
     "output_type": "stream",
     "text": [
      "{'Dog': ['Bugdog', 'Lion', 'Cat'], 'Food': 'Rice', 'Profession': 'Lawyer'}\n"
     ]
    }
   ],
   "source": [
    "print(dict)"
   ]
  },
  {
   "cell_type": "code",
   "execution_count": 15,
   "id": "49e73a66-deca-4938-aa21-2ad2fca24b32",
   "metadata": {},
   "outputs": [
    {
     "data": {
      "text/plain": [
       "dict_values([['Bugdog', 'Lion', 'Cat'], 'Rice', 'Lawyer'])"
      ]
     },
     "execution_count": 15,
     "metadata": {},
     "output_type": "execute_result"
    }
   ],
   "source": [
    "dict.values()"
   ]
  },
  {
   "cell_type": "code",
   "execution_count": 17,
   "id": "0d1efff8-85e3-489f-a78e-bbd5a1331846",
   "metadata": {},
   "outputs": [
    {
     "data": {
      "text/plain": [
       "dict_keys(['Dog', 'Food', 'Profession'])"
      ]
     },
     "execution_count": 17,
     "metadata": {},
     "output_type": "execute_result"
    }
   ],
   "source": [
    "dict.keys()"
   ]
  },
  {
   "cell_type": "code",
   "execution_count": null,
   "id": "da3e56c8-81d4-4ad8-acc5-a10c1c7c9474",
   "metadata": {},
   "outputs": [],
   "source": []
  },
  {
   "cell_type": "code",
   "execution_count": 19,
   "id": "19cfebd1-a871-4d56-8183-aa075bdfc6cf",
   "metadata": {},
   "outputs": [
    {
     "data": {
      "text/plain": [
       "False"
      ]
     },
     "execution_count": 19,
     "metadata": {},
     "output_type": "execute_result"
    }
   ],
   "source": [
    "not(50 > 10)"
   ]
  },
  {
   "cell_type": "code",
   "execution_count": null,
   "id": "72bba5d6-8d6b-4f74-8098-c3bfdea92dd9",
   "metadata": {},
   "outputs": [],
   "source": []
  },
  {
   "cell_type": "code",
   "execution_count": null,
   "id": "508cbbcd-82dc-4220-9e72-98b8528c3c51",
   "metadata": {},
   "outputs": [],
   "source": []
  },
  {
   "cell_type": "code",
   "execution_count": null,
   "id": "9a79993e-9085-4b13-a51b-d9d3973d721e",
   "metadata": {},
   "outputs": [],
   "source": []
  },
  {
   "cell_type": "code",
   "execution_count": null,
   "id": "3b95f156-9ed2-4652-b6dd-560fcf73bfab",
   "metadata": {},
   "outputs": [],
   "source": []
  },
  {
   "cell_type": "code",
   "execution_count": null,
   "id": "1d055387-3dc0-42d5-a053-0f9b6588db76",
   "metadata": {},
   "outputs": [],
   "source": []
  },
  {
   "cell_type": "code",
   "execution_count": null,
   "id": "96f3deb1-32e3-42a9-b1bf-975a6b85dae7",
   "metadata": {},
   "outputs": [],
   "source": []
  },
  {
   "cell_type": "code",
   "execution_count": null,
   "id": "c5ba8529-5c56-4540-ab68-56c41140d4e6",
   "metadata": {},
   "outputs": [],
   "source": []
  },
  {
   "cell_type": "code",
   "execution_count": null,
   "id": "47061457-3f6c-479d-9ac1-c53ef41fd216",
   "metadata": {},
   "outputs": [],
   "source": []
  },
  {
   "cell_type": "code",
   "execution_count": null,
   "id": "85c2319e-8f38-4add-b943-3b126a67892c",
   "metadata": {},
   "outputs": [],
   "source": []
  },
  {
   "cell_type": "code",
   "execution_count": null,
   "id": "b94706bf-edf7-45a1-9c17-5bc00d768cc5",
   "metadata": {},
   "outputs": [],
   "source": []
  },
  {
   "cell_type": "code",
   "execution_count": null,
   "id": "5727ef1b-15a8-45e8-b14b-3d135996a1b6",
   "metadata": {},
   "outputs": [],
   "source": []
  },
  {
   "cell_type": "code",
   "execution_count": null,
   "id": "c4c31d43-574a-4204-8020-3cb57b88cd4a",
   "metadata": {},
   "outputs": [],
   "source": []
  },
  {
   "cell_type": "code",
   "execution_count": null,
   "id": "69d63c12-0271-42d6-9adf-c33ddc192831",
   "metadata": {},
   "outputs": [],
   "source": []
  },
  {
   "cell_type": "code",
   "execution_count": null,
   "id": "d2dbd7ba-b1b1-40cf-af45-0b8e64f3c389",
   "metadata": {},
   "outputs": [],
   "source": []
  },
  {
   "cell_type": "code",
   "execution_count": null,
   "id": "9c035001-71c9-493d-bc19-a682e272d77f",
   "metadata": {},
   "outputs": [],
   "source": []
  },
  {
   "cell_type": "code",
   "execution_count": null,
   "id": "748aa841-1044-42e5-ace8-1b0c5a264283",
   "metadata": {},
   "outputs": [],
   "source": []
  }
 ],
 "metadata": {
  "kernelspec": {
   "display_name": "Python 3 (ipykernel)",
   "language": "python",
   "name": "python3"
  },
  "language_info": {
   "codemirror_mode": {
    "name": "ipython",
    "version": 3
   },
   "file_extension": ".py",
   "mimetype": "text/x-python",
   "name": "python",
   "nbconvert_exporter": "python",
   "pygments_lexer": "ipython3",
   "version": "3.12.4"
  }
 },
 "nbformat": 4,
 "nbformat_minor": 5
}
