{
 "cells": [
  {
   "cell_type": "code",
   "execution_count": 1,
   "id": "7270718b-a4f0-4a24-b904-2ae473133f68",
   "metadata": {},
   "outputs": [],
   "source": [
    "def first_func():\n",
    "    print('we did it')"
   ]
  },
  {
   "cell_type": "code",
   "execution_count": 3,
   "id": "cccd3a42-aedb-4390-ab02-62ed26557dbb",
   "metadata": {},
   "outputs": [
    {
     "name": "stdout",
     "output_type": "stream",
     "text": [
      "we did it\n"
     ]
    }
   ],
   "source": [
    "first_func()"
   ]
  },
  {
   "cell_type": "code",
   "execution_count": null,
   "id": "596952d9-80ea-4cf3-88e9-6916d75fcd4a",
   "metadata": {},
   "outputs": [],
   "source": []
  },
  {
   "cell_type": "code",
   "execution_count": 5,
   "id": "a617d587-fa44-4253-bf5f-d3b6a5eb57a6",
   "metadata": {},
   "outputs": [],
   "source": [
    "def power(number):\n",
    "    print(number**2)"
   ]
  },
  {
   "cell_type": "code",
   "execution_count": 11,
   "id": "e137d84b-ee71-4adc-b57f-696df03d9a07",
   "metadata": {},
   "outputs": [
    {
     "name": "stdout",
     "output_type": "stream",
     "text": [
      "10000\n"
     ]
    }
   ],
   "source": [
    "power(100)"
   ]
  },
  {
   "cell_type": "code",
   "execution_count": null,
   "id": "d1fe51c5-2d18-48d8-bb2b-bddb9cc67b0e",
   "metadata": {},
   "outputs": [],
   "source": []
  },
  {
   "cell_type": "code",
   "execution_count": null,
   "id": "b46eded1-26d2-46e2-8e93-7f14c56a5e94",
   "metadata": {},
   "outputs": [],
   "source": []
  },
  {
   "cell_type": "code",
   "execution_count": null,
   "id": "fbae1fc0-962b-4e32-b6ce-50140efe1cc8",
   "metadata": {},
   "outputs": [],
   "source": []
  },
  {
   "cell_type": "code",
   "execution_count": null,
   "id": "a6934348-1251-4144-82c3-359ec20bd363",
   "metadata": {},
   "outputs": [],
   "source": []
  },
  {
   "cell_type": "code",
   "execution_count": 23,
   "id": "bfae180a-72dd-42e7-be2e-b40e8f21fc6f",
   "metadata": {},
   "outputs": [],
   "source": [
    "def multiple(x,y):\n",
    "    print(x**y)"
   ]
  },
  {
   "cell_type": "code",
   "execution_count": 31,
   "id": "fb11f6f1-a15f-4f35-9ed5-9fe9e3d8c925",
   "metadata": {},
   "outputs": [
    {
     "name": "stdout",
     "output_type": "stream",
     "text": [
      "729\n"
     ]
    }
   ],
   "source": [
    "multiple(3,6)"
   ]
  },
  {
   "cell_type": "code",
   "execution_count": null,
   "id": "ddaa447c-9f6f-4c7b-926c-b0db1519c85f",
   "metadata": {},
   "outputs": [],
   "source": []
  },
  {
   "cell_type": "code",
   "execution_count": null,
   "id": "3bf2dfcb-1ace-475c-b243-9163082f9b85",
   "metadata": {},
   "outputs": [],
   "source": [
    "def power(number):\n",
    "    print(number**2)"
   ]
  },
  {
   "cell_type": "code",
   "execution_count": null,
   "id": "b8c33542-66db-428e-bb6e-b03d8783b3c9",
   "metadata": {},
   "outputs": [],
   "source": []
  },
  {
   "cell_type": "code",
   "execution_count": null,
   "id": "37e88903-85dd-4e3f-899c-59d47b20cfe8",
   "metadata": {},
   "outputs": [],
   "source": [
    "def num_k(**number):\n",
    "    print('My number is: ' + number[])\n",
    "    "
   ]
  },
  {
   "cell_type": "code",
   "execution_count": null,
   "id": "cd8775c5-6f52-4dfd-9846-618ec9ccc538",
   "metadata": {},
   "outputs": [],
   "source": []
  },
  {
   "cell_type": "code",
   "execution_count": 37,
   "id": "a69f7311-50ce-43b4-b437-caafc3e75831",
   "metadata": {},
   "outputs": [],
   "source": [
    "def test(*y):\n",
    "    print(y[0]* y[1])\n",
    "    "
   ]
  },
  {
   "cell_type": "code",
   "execution_count": 35,
   "id": "1df3998c-7c5d-4e95-a374-2ccec636efdc",
   "metadata": {},
   "outputs": [
    {
     "name": "stdout",
     "output_type": "stream",
     "text": [
      "20\n"
     ]
    }
   ],
   "source": [
    "test(5,4,3,2,1)"
   ]
  },
  {
   "cell_type": "code",
   "execution_count": null,
   "id": "9ebcb773-6990-4664-828b-e4947093bcb9",
   "metadata": {},
   "outputs": [],
   "source": []
  },
  {
   "cell_type": "code",
   "execution_count": null,
   "id": "8c395083-494c-43f1-8bd1-9a3f2064ffd6",
   "metadata": {},
   "outputs": [],
   "source": []
  },
  {
   "cell_type": "code",
   "execution_count": null,
   "id": "4f8fbc5e-ecd1-4d3c-8377-bddae8a9043b",
   "metadata": {},
   "outputs": [],
   "source": []
  },
  {
   "cell_type": "code",
   "execution_count": null,
   "id": "be208c1c-70da-49bc-a42c-f741e0dd1972",
   "metadata": {},
   "outputs": [],
   "source": []
  },
  {
   "cell_type": "code",
   "execution_count": null,
   "id": "4cd9ed0e-6c5f-492c-8bb4-a1003eb13abe",
   "metadata": {},
   "outputs": [],
   "source": []
  },
  {
   "cell_type": "code",
   "execution_count": null,
   "id": "6960da41-76f2-4c57-8d3b-cab46a5130ce",
   "metadata": {},
   "outputs": [],
   "source": []
  }
 ],
 "metadata": {
  "kernelspec": {
   "display_name": "Python 3 (ipykernel)",
   "language": "python",
   "name": "python3"
  },
  "language_info": {
   "codemirror_mode": {
    "name": "ipython",
    "version": 3
   },
   "file_extension": ".py",
   "mimetype": "text/x-python",
   "name": "python",
   "nbconvert_exporter": "python",
   "pygments_lexer": "ipython3",
   "version": "3.12.4"
  }
 },
 "nbformat": 4,
 "nbformat_minor": 5
}
